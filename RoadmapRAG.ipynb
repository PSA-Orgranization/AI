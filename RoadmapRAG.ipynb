{
  "nbformat": 4,
  "nbformat_minor": 0,
  "metadata": {
    "colab": {
      "provenance": []
    },
    "kernelspec": {
      "name": "python3",
      "display_name": "Python 3"
    },
    "language_info": {
      "name": "python"
    }
  },
  "cells": [
    {
      "cell_type": "code",
      "execution_count": 1,
      "metadata": {
        "id": "2xFd73RIZZTa"
      },
      "outputs": [],
      "source": [
        "!pip install -q chromadb openai python-dotenv"
      ]
    },
    {
      "cell_type": "code",
      "source": [
        "!pip install pypdf"
      ],
      "metadata": {
        "colab": {
          "base_uri": "https://localhost:8080/"
        },
        "id": "W-H4huBQeczD",
        "outputId": "0a8250ee-676b-425c-d22d-9dacf959b912"
      },
      "execution_count": 2,
      "outputs": [
        {
          "output_type": "stream",
          "name": "stdout",
          "text": [
            "Requirement already satisfied: pypdf in /usr/local/lib/python3.11/dist-packages (5.6.1)\n"
          ]
        }
      ]
    },
    {
      "cell_type": "code",
      "source": [
        "import os\n",
        "from pypdf import PdfReader\n",
        "from langchain.text_splitter import RecursiveCharacterTextSplitter\n",
        "import chromadb\n",
        "from chromadb.utils.embedding_functions import SentenceTransformerEmbeddingFunction\n",
        "from transformers import pipeline\n",
        "from google.colab import userdata\n",
        "from openai import OpenAI\n"
      ],
      "metadata": {
        "id": "knkBgZaQdZVv"
      },
      "execution_count": 3,
      "outputs": []
    },
    {
      "cell_type": "code",
      "source": [
        "# Method 1: via environment variable\n",
        "os.environ[\"CHATGPTKEY\"] = userdata.get(\"CHATGPTKEY\")\n",
        "\n",
        "# Initialize OpenAI client\n",
        "client = OpenAI(api_key=os.environ[\"CHATGPTKEY\"])"
      ],
      "metadata": {
        "id": "XzZsAx23eQ2A"
      },
      "execution_count": 4,
      "outputs": []
    },
    {
      "cell_type": "code",
      "source": [
        "def openai_chat_completion(prompt: str, model=\"gpt-4o-mini\"):\n",
        "    response = client.chat.completions.create(\n",
        "        model=model,\n",
        "        messages=[\n",
        "            {\"role\": \"system\"},\n",
        "            {\"role\": \"user\", \"content\": prompt}\n",
        "        ],\n",
        "        temperature=0.3,\n",
        "        max_tokens=512,\n",
        "    )\n",
        "    return response.choices[0].message.content.strip()"
      ],
      "metadata": {
        "id": "QiB7twJRpASl"
      },
      "execution_count": 5,
      "outputs": []
    },
    {
      "cell_type": "code",
      "source": [
        "def load_multiple_pdfs(folder_path: str):\n",
        "    splitter = RecursiveCharacterTextSplitter(\n",
        "        separators=[\"\\n\\n\", \"\\n\", \". \", \" \", \"\"], chunk_size=2000, chunk_overlap=20\n",
        "    )\n",
        "    all_chunks, metadata_list = [], []\n",
        "    file_list = [f for f in os.listdir(folder_path) if f.endswith(\".pdf\")]\n",
        "\n",
        "    for file_name in file_list:\n",
        "        reader = PdfReader(os.path.join(folder_path, file_name))\n",
        "        for page_num, page in enumerate(reader.pages):\n",
        "            raw_text = page.extract_text()\n",
        "            if not raw_text:\n",
        "                continue\n",
        "            chunks = splitter.split_text(raw_text)\n",
        "            for chunk in chunks:\n",
        "                all_chunks.append(chunk)\n",
        "                metadata_list.append({\n",
        "                    \"source\": file_name,\n",
        "                    \"page\": page_num + 1,\n",
        "                })\n",
        "    return all_chunks, metadata_list\n"
      ],
      "metadata": {
        "id": "AiQOBZh7fDGM"
      },
      "execution_count": 124,
      "outputs": []
    },
    {
      "cell_type": "code",
      "source": [
        "def create_vector_db_with_metadata(docs, metadata, collection_name=\"multi-pdf-collection\"):\n",
        "    embedding_function = SentenceTransformerEmbeddingFunction()\n",
        "    client = chromadb.Client()\n",
        "    collection = client.create_collection(\n",
        "        name=collection_name, embedding_function=embedding_function, get_or_create=True\n",
        "    )\n",
        "    ids = [str(i) for i in range(len(docs))]\n",
        "    collection.add(ids=ids, documents=docs, metadatas=metadata)\n",
        "    return collection"
      ],
      "metadata": {
        "id": "iwKZdvAjfDPP"
      },
      "execution_count": 107,
      "outputs": []
    },
    {
      "cell_type": "code",
      "source": [
        "def augment_query(query: str):\n",
        "    prompt = f\"\"\"You are a dedicated Problem Solving and Competitive Programming Assistant. Your goal is to help users become better problem solvers and competitive programmers. When a user asks you for a roadmap or guidance on a specific topic, your task is to:\n",
        "\n",
        "Identify their current skill level and goals (if not provided, ask them briefly).\n",
        "\n",
        "Provide a structured, personalized learning roadmap for the topic or goal they mention.\n",
        "\n",
        "Include key resources, recommended problems, and platforms (e.g., Codeforces, LeetCode, AtCoder).\n",
        "\n",
        "Highlight common weaknesses related to the topic and how to overcome them.\n",
        "\n",
        "Suggest daily or weekly practice strategies to build consistency and long-term improvement.\n",
        "\n",
        "Always focus on guiding the user toward their next steps with clarity, encouragement, and technical accuracy.\n",
        "\n",
        " :That is the user's query: {query}\"\"\"\n",
        "    output = openai_chat_completion(prompt)\n",
        "    return [line.strip(\"-• \").strip() for line in output.split(\"\\n\") if line.strip()]"
      ],
      "metadata": {
        "id": "v1ldwMVEi5yT"
      },
      "execution_count": 108,
      "outputs": []
    },
    {
      "cell_type": "code",
      "source": [
        "def retrieve_documents_with_metadata(collection, queries, n_results=5):\n",
        "    results = collection.query(query_texts=queries, n_results=n_results, include=[\"documents\", \"metadatas\"])\n",
        "    combined = []\n",
        "    for docs, metas in zip(results[\"documents\"], results[\"metadatas\"]):\n",
        "        for doc, meta in zip(docs, metas):\n",
        "            combined.append({\"content\": doc, \"source\": meta.get(\"source\", \"unknown\"), \"page\": meta.get(\"page\", \"?\")})\n",
        "    seen, unique = set(), []\n",
        "    for item in combined:\n",
        "        if item[\"content\"] not in seen:\n",
        "            seen.add(item[\"content\"])\n",
        "            unique.append(item)\n",
        "    return unique\n"
      ],
      "metadata": {
        "id": "ZhITgK6zjJVm"
      },
      "execution_count": 109,
      "outputs": []
    },
    {
      "cell_type": "code",
      "source": [
        "def generate_answer_with_memory(query, retrieved_docs, history=None):\n",
        "    context = \"\\n\\n\".join(\n",
        "        f\"[{doc['source']}, page {doc['page']}] {doc['content']}\" for doc in retrieved_docs\n",
        "    )\n",
        "    history_text = \"\"\n",
        "    if history:\n",
        "        for i, turn in enumerate(history):\n",
        "            role = \"User\" if i % 2 == 0 else \"Assistant\"\n",
        "            history_text += f\"{role}: {turn}\\n\"\n",
        "\n",
        "    full_prompt = (\n",
        "        f\"{history_text}\\nContext:\\n{context}\\n\\nQuestion: {query}\\nAnswer:\"\n",
        "    )\n",
        "    return openai_chat_completion(full_prompt)"
      ],
      "metadata": {
        "id": "NZeVYbPEjJzI"
      },
      "execution_count": 110,
      "outputs": []
    },
    {
      "cell_type": "code",
      "source": [
        "chunks, metadata = load_multiple_pdfs(\"/content/data\")\n"
      ],
      "metadata": {
        "colab": {
          "base_uri": "https://localhost:8080/"
        },
        "id": "aCIOnp83jbG_",
        "outputId": "87f622d7-7d1f-414d-f477-4ce04836eb7e"
      },
      "execution_count": 131,
      "outputs": [
        {
          "output_type": "stream",
          "name": "stderr",
          "text": [
            "WARNING:pypdf.generic._data_structures:Multiple definitions in dictionary at byte 0x7d for key /Subtype\n",
            "WARNING:pypdf.generic._data_structures:Multiple definitions in dictionary at byte 0x7d for key /Subtype\n",
            "WARNING:pypdf.generic._data_structures:Multiple definitions in dictionary at byte 0x7d for key /Subtype\n",
            "WARNING:pypdf.generic._data_structures:Multiple definitions in dictionary at byte 0x7d for key /Subtype\n",
            "WARNING:pypdf.generic._data_structures:Multiple definitions in dictionary at byte 0x7d for key /Subtype\n",
            "WARNING:pypdf.generic._data_structures:Multiple definitions in dictionary at byte 0x7d for key /Subtype\n",
            "WARNING:pypdf.generic._data_structures:Multiple definitions in dictionary at byte 0x7d for key /Subtype\n",
            "WARNING:pypdf.generic._data_structures:Multiple definitions in dictionary at byte 0x7d for key /Subtype\n",
            "WARNING:pypdf.generic._data_structures:Multiple definitions in dictionary at byte 0x7d for key /Subtype\n",
            "WARNING:pypdf.generic._data_structures:Multiple definitions in dictionary at byte 0x7d for key /Subtype\n",
            "WARNING:pypdf.generic._data_structures:Multiple definitions in dictionary at byte 0x7d for key /Subtype\n",
            "WARNING:pypdf.generic._data_structures:Multiple definitions in dictionary at byte 0x7d for key /Subtype\n",
            "WARNING:pypdf.generic._data_structures:Multiple definitions in dictionary at byte 0x7d for key /Subtype\n",
            "WARNING:pypdf.generic._data_structures:Multiple definitions in dictionary at byte 0x7d for key /Subtype\n",
            "WARNING:pypdf.generic._data_structures:Multiple definitions in dictionary at byte 0x7d for key /Subtype\n",
            "WARNING:pypdf.generic._data_structures:Multiple definitions in dictionary at byte 0x7d for key /Subtype\n",
            "WARNING:pypdf.generic._data_structures:Multiple definitions in dictionary at byte 0x7d for key /Subtype\n",
            "WARNING:pypdf.generic._data_structures:Multiple definitions in dictionary at byte 0x7d for key /Subtype\n",
            "WARNING:pypdf.generic._data_structures:Multiple definitions in dictionary at byte 0x7d for key /Subtype\n",
            "WARNING:pypdf.generic._data_structures:Multiple definitions in dictionary at byte 0x7d for key /Subtype\n",
            "WARNING:pypdf.generic._data_structures:Multiple definitions in dictionary at byte 0x7d for key /Subtype\n",
            "WARNING:pypdf.generic._data_structures:Multiple definitions in dictionary at byte 0x7d for key /Subtype\n",
            "WARNING:pypdf.generic._data_structures:Multiple definitions in dictionary at byte 0x7d for key /Subtype\n",
            "WARNING:pypdf.generic._data_structures:Multiple definitions in dictionary at byte 0x7d for key /Subtype\n",
            "WARNING:pypdf.generic._data_structures:Multiple definitions in dictionary at byte 0x7d for key /Subtype\n",
            "WARNING:pypdf.generic._data_structures:Multiple definitions in dictionary at byte 0x7e for key /Subtype\n",
            "WARNING:pypdf.generic._data_structures:Multiple definitions in dictionary at byte 0x7d for key /Subtype\n",
            "WARNING:pypdf.generic._data_structures:Multiple definitions in dictionary at byte 0x7d for key /Subtype\n",
            "WARNING:pypdf.generic._data_structures:Multiple definitions in dictionary at byte 0x7d for key /Subtype\n",
            "WARNING:pypdf.generic._data_structures:Multiple definitions in dictionary at byte 0x7d for key /Subtype\n",
            "WARNING:pypdf.generic._data_structures:Multiple definitions in dictionary at byte 0x7d for key /Subtype\n",
            "WARNING:pypdf.generic._data_structures:Multiple definitions in dictionary at byte 0x7d for key /Subtype\n",
            "WARNING:pypdf.generic._data_structures:Multiple definitions in dictionary at byte 0x7d for key /Subtype\n",
            "WARNING:pypdf.generic._data_structures:Multiple definitions in dictionary at byte 0x7d for key /Subtype\n",
            "WARNING:pypdf.generic._data_structures:Multiple definitions in dictionary at byte 0x7d for key /Subtype\n",
            "WARNING:pypdf.generic._data_structures:Multiple definitions in dictionary at byte 0x7d for key /Subtype\n",
            "WARNING:pypdf.generic._data_structures:Multiple definitions in dictionary at byte 0x7d for key /Subtype\n",
            "WARNING:pypdf.generic._data_structures:Multiple definitions in dictionary at byte 0x7d for key /Subtype\n",
            "WARNING:pypdf.generic._data_structures:Multiple definitions in dictionary at byte 0x7d for key /Subtype\n",
            "WARNING:pypdf.generic._data_structures:Multiple definitions in dictionary at byte 0x7d for key /Subtype\n",
            "WARNING:pypdf.generic._data_structures:Multiple definitions in dictionary at byte 0x7d for key /Subtype\n",
            "WARNING:pypdf.generic._data_structures:Multiple definitions in dictionary at byte 0x7d for key /Subtype\n",
            "WARNING:pypdf.generic._data_structures:Multiple definitions in dictionary at byte 0x7d for key /Subtype\n",
            "WARNING:pypdf.generic._data_structures:Multiple definitions in dictionary at byte 0x7d for key /Subtype\n",
            "WARNING:pypdf.generic._data_structures:Multiple definitions in dictionary at byte 0x7d for key /Subtype\n",
            "WARNING:pypdf.generic._data_structures:Multiple definitions in dictionary at byte 0x7d for key /Subtype\n",
            "WARNING:pypdf.generic._data_structures:Multiple definitions in dictionary at byte 0x7d for key /Subtype\n",
            "WARNING:pypdf.generic._data_structures:Multiple definitions in dictionary at byte 0x7d for key /Subtype\n",
            "WARNING:pypdf.generic._data_structures:Multiple definitions in dictionary at byte 0x7d for key /Subtype\n",
            "WARNING:pypdf.generic._data_structures:Multiple definitions in dictionary at byte 0x7d for key /Subtype\n",
            "WARNING:pypdf.generic._data_structures:Multiple definitions in dictionary at byte 0x7d for key /Subtype\n",
            "WARNING:pypdf.generic._data_structures:Multiple definitions in dictionary at byte 0x7d for key /Subtype\n",
            "WARNING:pypdf.generic._data_structures:Multiple definitions in dictionary at byte 0x7d for key /Subtype\n",
            "WARNING:pypdf.generic._data_structures:Multiple definitions in dictionary at byte 0x7d for key /Subtype\n"
          ]
        }
      ]
    },
    {
      "cell_type": "code",
      "source": [
        "collection = create_vector_db_with_metadata(chunks, metadata)\n"
      ],
      "metadata": {
        "id": "0aPUPdAwjcAF"
      },
      "execution_count": 133,
      "outputs": []
    },
    {
      "cell_type": "code",
      "source": [
        "user_query = \"what is the objective of norhan's project\"\n",
        "\n",
        "history = [\n",
        "]\n",
        "\n",
        "augmented = augment_query(user_query)\n"
      ],
      "metadata": {
        "id": "IL1qKtb-j8Z2"
      },
      "execution_count": 134,
      "outputs": []
    },
    {
      "cell_type": "code",
      "source": [
        "queries = [user_query] + augmented\n",
        "\n"
      ],
      "metadata": {
        "id": "hTi6-q3gj8sS"
      },
      "execution_count": 135,
      "outputs": []
    },
    {
      "cell_type": "code",
      "source": [
        "retrieved = retrieve_documents_with_metadata(collection, queries)\n"
      ],
      "metadata": {
        "id": "OOAjTHMEj82Y"
      },
      "execution_count": 136,
      "outputs": []
    },
    {
      "cell_type": "code",
      "source": [
        "answer = generate_answer_with_memory(user_query, retrieved, history)\n",
        "print(\"🤖 Answer:\\n\", answer)"
      ],
      "metadata": {
        "colab": {
          "base_uri": "https://localhost:8080/"
        },
        "id": "C72aGWcqkG5C",
        "outputId": "effb0ac2-ff32-4816-c4f1-25ccc1c764f1"
      },
      "execution_count": 137,
      "outputs": [
        {
          "output_type": "stream",
          "name": "stdout",
          "text": [
            "🤖 Answer:\n",
            " The objective of Norhan's project is to develop a system that assists users, particularly women, in identifying their body types and providing personalized clothing recommendations based on their individual characteristics. The project aims to enhance the shopping experience by offering suggestions for styles that suit different body types, taking into account various factors such as skin color, accessories, and specific needs (e.g., for pregnant women or individuals of varying heights). Additionally, the project seeks to minimize user effort in taking measurements by enabling the system to extract measurements from a scanned picture of the user. Ultimately, the goal is to help users visualize how clothes will look on them by incorporating features like a 3D model of their body wearing selected clothing items. The project also intends to expand its capabilities to include recommendations for men and children.\n"
          ]
        }
      ]
    }
  ]
}